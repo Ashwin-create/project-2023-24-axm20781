{
 "cells": [
  {
   "cell_type": "code",
   "execution_count": 1,
   "id": "93310d68-1096-434c-9833-f0da8cbe4167",
   "metadata": {},
   "outputs": [],
   "source": [
    "import pandas as pd\n",
    "import numpy as np\n",
    "\n",
    "import torch\n",
    "import torch.nn as nn\n",
    "from torch.utils.data import Dataset, DataLoader\n",
    "import pytorch_lightning as pl\n",
    "\n",
    "from tqdm.notebook import tqdm\n",
    "np.random.seed(123)"
   ]
  },
  {
   "cell_type": "code",
   "execution_count": 2,
   "id": "7bc8aaf3-3625-4730-8168-669adf757bdf",
   "metadata": {},
   "outputs": [],
   "source": [
    "# read data\n",
    "\n",
    "rating_df = pd.read_csv('rating.csv', parse_dates=['timestamp'])"
   ]
  },
  {
   "cell_type": "code",
   "execution_count": 3,
   "id": "e168473f-d07b-4f24-b7ac-4cd56c3fc265",
   "metadata": {},
   "outputs": [
    {
     "name": "stdout",
     "output_type": "stream",
     "text": [
      "Reduced dataframe: 8022066 rows for 55397 different users\n"
     ]
    }
   ],
   "source": [
    "#use 40% data to reduce computational load and for quicker iteration\n",
    "#randomly select users and use only their data\n",
    "\n",
    "rand_users = np.random.choice(rating_df['userId'].unique(),\n",
    "                              size=int(len(rating_df['userId'].unique())*0.4),\n",
    "                              replace=False)\n",
    "\n",
    "rating_df = rating_df.loc[rating_df['userId'].isin(rand_users)]\n",
    "\n",
    "print('Reduced dataframe: {} rows for {} different users'.format(len(rating_df), len(rand_users)))"
   ]
  },
  {
   "cell_type": "code",
   "execution_count": 4,
   "id": "ed2c56e3-0b15-4ccc-a6b2-3cb725a48e02",
   "metadata": {},
   "outputs": [],
   "source": [
    "#Implement leave-one-out method\n",
    "\n",
    "rating_df['latest_review'] = rating_df.groupby(['userId'])['timestamp'].rank(method='first', ascending=False)\n",
    "\n",
    "X_rating = rating_df[rating_df['latest_review'] != 1]\n",
    "Y_rating = rating_df[rating_df['latest_review'] == 1] #leave most recent for testing\n",
    "\n",
    "X_rating = X_rating[['userId', 'movieId', 'rating']]\n",
    "Y_rating = Y_rating[['userId', 'movieId', 'rating']]"
   ]
  },
  {
   "cell_type": "code",
   "execution_count": 5,
   "id": "701b7b93-b661-4d26-9579-153eb8fffe13",
   "metadata": {},
   "outputs": [
    {
     "data": {
      "text/html": [
       "<div>\n",
       "<style scoped>\n",
       "    .dataframe tbody tr th:only-of-type {\n",
       "        vertical-align: middle;\n",
       "    }\n",
       "\n",
       "    .dataframe tbody tr th {\n",
       "        vertical-align: top;\n",
       "    }\n",
       "\n",
       "    .dataframe thead th {\n",
       "        text-align: right;\n",
       "    }\n",
       "</style>\n",
       "<table border=\"1\" class=\"dataframe\">\n",
       "  <thead>\n",
       "    <tr style=\"text-align: right;\">\n",
       "      <th></th>\n",
       "      <th>userId</th>\n",
       "      <th>movieId</th>\n",
       "      <th>rating</th>\n",
       "    </tr>\n",
       "  </thead>\n",
       "  <tbody>\n",
       "    <tr>\n",
       "      <th>12170960</th>\n",
       "      <td>84070</td>\n",
       "      <td>1784</td>\n",
       "      <td>1.0</td>\n",
       "    </tr>\n",
       "    <tr>\n",
       "      <th>15509804</th>\n",
       "      <td>107266</td>\n",
       "      <td>2115</td>\n",
       "      <td>1.0</td>\n",
       "    </tr>\n",
       "    <tr>\n",
       "      <th>1750802</th>\n",
       "      <td>11851</td>\n",
       "      <td>53121</td>\n",
       "      <td>1.0</td>\n",
       "    </tr>\n",
       "    <tr>\n",
       "      <th>4061913</th>\n",
       "      <td>27640</td>\n",
       "      <td>590</td>\n",
       "      <td>1.0</td>\n",
       "    </tr>\n",
       "    <tr>\n",
       "      <th>12241441</th>\n",
       "      <td>84558</td>\n",
       "      <td>30793</td>\n",
       "      <td>1.0</td>\n",
       "    </tr>\n",
       "  </tbody>\n",
       "</table>\n",
       "</div>"
      ],
      "text/plain": [
       "          userId  movieId  rating\n",
       "12170960   84070     1784     1.0\n",
       "15509804  107266     2115     1.0\n",
       "1750802    11851    53121     1.0\n",
       "4061913    27640      590     1.0\n",
       "12241441   84558    30793     1.0"
      ]
     },
     "execution_count": 5,
     "metadata": {},
     "output_type": "execute_result"
    }
   ],
   "source": [
    "# convert explicit-to-implicit feedback\n",
    "\n",
    "X_rating.loc[:, 'rating'] = 1\n",
    "\n",
    "X_rating.sample(5)"
   ]
  },
  {
   "cell_type": "code",
   "execution_count": 6,
   "id": "0591c58b-8b35-4a16-bbdb-678006c8919d",
   "metadata": {},
   "outputs": [
    {
     "data": {
      "application/vnd.jupyter.widget-view+json": {
       "model_id": "40fad05347494d94807aa65208a128f4",
       "version_major": 2,
       "version_minor": 0
      },
      "text/plain": [
       "  0%|          | 0/7966669 [00:00<?, ?it/s]"
      ]
     },
     "metadata": {},
     "output_type": "display_data"
    }
   ],
   "source": [
    "# Generate 4 negative samples for each row, 4:1 ratio\n",
    "\n",
    "movie_ids_unique = rating_df['movieId'].unique()\n",
    "\n",
    "users = []\n",
    "items = []\n",
    "interacted = []\n",
    "\n",
    "ui_interacted = set(zip(X_rating['userId'], X_rating['movieId']))\n",
    "\n",
    "# 4:1 ratio\n",
    "negatives = 4\n",
    "\n",
    "for (u, i) in tqdm(ui_interacted):\n",
    "    users.append(u)\n",
    "    items.append(i)\n",
    "    interacted.append(1)\n",
    "    for _ in range(negatives):\n",
    "        neg_item = np.random.choice(movie_ids_unique)\n",
    "        while(u, neg_item) in ui_interacted:\n",
    "            neg_item = np.random.choice(movie_ids_unique)\n",
    "        users.append(u)\n",
    "        items.append(neg_item)\n",
    "        interacted.append(0)"
   ]
  },
  {
   "cell_type": "code",
   "execution_count": 7,
   "id": "13d770d1-ce76-4a21-af91-7c50c6dff3bf",
   "metadata": {},
   "outputs": [
    {
     "data": {
      "text/html": [
       "<div>\n",
       "<style scoped>\n",
       "    .dataframe tbody tr th:only-of-type {\n",
       "        vertical-align: middle;\n",
       "    }\n",
       "\n",
       "    .dataframe tbody tr th {\n",
       "        vertical-align: top;\n",
       "    }\n",
       "\n",
       "    .dataframe thead th {\n",
       "        text-align: right;\n",
       "    }\n",
       "</style>\n",
       "<table border=\"1\" class=\"dataframe\">\n",
       "  <thead>\n",
       "    <tr style=\"text-align: right;\">\n",
       "      <th></th>\n",
       "      <th>userId</th>\n",
       "      <th>movieId</th>\n",
       "      <th>interacted</th>\n",
       "    </tr>\n",
       "  </thead>\n",
       "  <tbody>\n",
       "    <tr>\n",
       "      <th>0</th>\n",
       "      <td>5070</td>\n",
       "      <td>1270</td>\n",
       "      <td>1</td>\n",
       "    </tr>\n",
       "    <tr>\n",
       "      <th>1</th>\n",
       "      <td>5070</td>\n",
       "      <td>2297</td>\n",
       "      <td>0</td>\n",
       "    </tr>\n",
       "    <tr>\n",
       "      <th>2</th>\n",
       "      <td>5070</td>\n",
       "      <td>108501</td>\n",
       "      <td>0</td>\n",
       "    </tr>\n",
       "    <tr>\n",
       "      <th>3</th>\n",
       "      <td>5070</td>\n",
       "      <td>126591</td>\n",
       "      <td>0</td>\n",
       "    </tr>\n",
       "    <tr>\n",
       "      <th>4</th>\n",
       "      <td>5070</td>\n",
       "      <td>69278</td>\n",
       "      <td>0</td>\n",
       "    </tr>\n",
       "  </tbody>\n",
       "</table>\n",
       "</div>"
      ],
      "text/plain": [
       "   userId  movieId  interacted\n",
       "0    5070     1270           1\n",
       "1    5070     2297           0\n",
       "2    5070   108501           0\n",
       "3    5070   126591           0\n",
       "4    5070    69278           0"
      ]
     },
     "execution_count": 7,
     "metadata": {},
     "output_type": "execute_result"
    }
   ],
   "source": [
    "d = {'userId': users, 'movieId': items, 'interacted': interacted}\n",
    "df = pd.DataFrame(data=d)\n",
    "df.head()"
   ]
  },
  {
   "cell_type": "code",
   "execution_count": 8,
   "id": "37e11efa-c759-4aba-82c3-498084aa31c9",
   "metadata": {},
   "outputs": [],
   "source": [
    "class RatingTrainData(Dataset):\n",
    "    \n",
    "    def __init__(self, rating_df, movie_ids_unique):\n",
    "        self.users, self.items, self.interacted = self.get_dataset(rating_df, movie_ids_unique)\n",
    "\n",
    "    def __len__(self):\n",
    "        return len(self.users)\n",
    "\n",
    "    def __getitem__(self, idx):\n",
    "        return self.users[idx], self.items[idx], self.interacted[idx]\n",
    "\n",
    "    def get_dataset(self, rating_df, movie_ids_unique):\n",
    "        users = []\n",
    "        items = []\n",
    "        interacted = []\n",
    "        \n",
    "        ui_interacted = set(zip(X_rating['userId'], X_rating['movieId']))\n",
    "        \n",
    "        # 4:1 ratio\n",
    "        negatives = 4\n",
    "        \n",
    "        for (u, i) in tqdm(ui_interacted):\n",
    "            users.append(u)\n",
    "            items.append(i)\n",
    "            interacted.append(1)\n",
    "            for _ in range(negatives):\n",
    "                neg_item = np.random.choice(movie_ids_unique)\n",
    "                while(u, neg_item) in ui_interacted:\n",
    "                    neg_item = np.random.choice(movie_ids_unique)\n",
    "                users.append(u)\n",
    "                items.append(neg_item)\n",
    "                interacted.append(0)\n",
    "                \n",
    "        return torch.tensor(users), torch.tensor(items), torch.tensor(interacted)"
   ]
  },
  {
   "cell_type": "code",
   "execution_count": 9,
   "id": "94df7038-3fa3-4acd-8170-ac4b38665475",
   "metadata": {},
   "outputs": [],
   "source": [
    "class AttentionNeuCF(pl.LightningModule):\n",
    "    def __init__(self, no_users, no_items, rating_df, movie_ids_unique):\n",
    "        super().__init__()\n",
    "        self.user_embedding = nn.Embedding(num_embeddings=no_users, embedding_dim=8)\n",
    "        self.item_embedding = nn.Embedding(num_embeddings=no_items, embedding_dim=8)\n",
    "        self.attention_layer = nn.MultiheadAttention(embed_dim=8, num_heads=2)\n",
    "        self.fc1 = nn.Linear(in_features=16, out_features=64)\n",
    "        self.fc2 = nn.Linear(in_features=64, out_features=32)\n",
    "        self.output = nn.Linear(in_features=32, out_features=1)\n",
    "        self.rating_df = rating_df\n",
    "        self.movie_ids_unique = movie_ids_unique\n",
    "\n",
    "    def forward(self, user_input, item_input):\n",
    "        user_embedded = self.user_embedding(user_input)\n",
    "        item_embedded = self.item_embedding(item_input)\n",
    "        \n",
    "        # Apply attention over user and item embeddings\n",
    "        attn_output, _ = self.attention_layer(user_embedded.unsqueeze(0), item_embedded.unsqueeze(0), item_embedded.unsqueeze(0))\n",
    "        vector = torch.cat([attn_output.squeeze(0), item_embedded], dim=-1)\n",
    "        \n",
    "        vector = nn.ReLU()(self.fc1(vector))\n",
    "        vector = nn.ReLU()(self.fc2(vector))\n",
    "        pred_layer = nn.Sigmoid()(self.output(vector))\n",
    "        return pred_layer\n",
    "\n",
    "    def training_step(self, batch, batch_index):\n",
    "        user_input, item_input, labels = batch\n",
    "        pred_labels = self(user_input, item_input)\n",
    "        loss = nn.BCELoss()(pred_labels, labels.view(-1, 1).float())\n",
    "        return loss\n",
    "\n",
    "    def configure_optimizers(self):\n",
    "        return torch.optim.Adam(self.parameters())\n",
    "\n",
    "    def train_dataloader(self):\n",
    "        return DataLoader(RatingTrainData(self.rating_df, self.movie_ids_unique), batch_size=512, num_workers=0)"
   ]
  },
  {
   "cell_type": "code",
   "execution_count": 11,
   "id": "9b4e6e7a-9029-475f-8662-660003539e5f",
   "metadata": {},
   "outputs": [],
   "source": [
    "no_users = rating_df['userId'].max() + 1\n",
    "no_items = rating_df['movieId'].max() + 1\n",
    "\n",
    "movie_ids_unique = rating_df['movieId'].unique()\n",
    "\n",
    "model = AttentionNeuCF(no_users, no_items, X_rating, movie_ids_unique)"
   ]
  },
  {
   "cell_type": "code",
   "execution_count": 12,
   "id": "55e2795e-c6b8-45c7-bbb0-7e5de7e0dc29",
   "metadata": {},
   "outputs": [
    {
     "name": "stderr",
     "output_type": "stream",
     "text": [
      "GPU available: True (mps), used: True\n",
      "TPU available: False, using: 0 TPU cores\n",
      "HPU available: False, using: 0 HPUs\n",
      "\n",
      "  | Name            | Type               | Params | Mode \n",
      "---------------------------------------------------------------\n",
      "0 | user_embedding  | Embedding          | 1.1 M  | train\n",
      "1 | item_embedding  | Embedding          | 1.1 M  | train\n",
      "2 | attention_layer | MultiheadAttention | 288    | train\n",
      "3 | fc1             | Linear             | 1.1 K  | train\n",
      "4 | fc2             | Linear             | 2.1 K  | train\n",
      "5 | output          | Linear             | 33     | train\n",
      "---------------------------------------------------------------\n",
      "2.2 M     Trainable params\n",
      "0         Non-trainable params\n",
      "2.2 M     Total params\n",
      "8.646     Total estimated model params size (MB)\n"
     ]
    },
    {
     "data": {
      "application/vnd.jupyter.widget-view+json": {
       "model_id": "759fba4b241a46c581194328a3e357e5",
       "version_major": 2,
       "version_minor": 0
      },
      "text/plain": [
       "  0%|          | 0/7966669 [00:00<?, ?it/s]"
      ]
     },
     "metadata": {},
     "output_type": "display_data"
    },
    {
     "name": "stderr",
     "output_type": "stream",
     "text": [
      "/opt/homebrew/anaconda3/envs/dlrs/lib/python3.12/site-packages/pytorch_lightning/trainer/connectors/data_connector.py:424: The 'train_dataloader' does not have many workers which may be a bottleneck. Consider increasing the value of the `num_workers` argument` to `num_workers=7` in the `DataLoader` to improve performance.\n"
     ]
    },
    {
     "data": {
      "application/vnd.jupyter.widget-view+json": {
       "model_id": "88973b13f356450694de7267e4649f48",
       "version_major": 2,
       "version_minor": 0
      },
      "text/plain": [
       "Training: |                                               | 0/? [00:00<?, ?it/s]"
      ]
     },
     "metadata": {},
     "output_type": "display_data"
    },
    {
     "name": "stderr",
     "output_type": "stream",
     "text": [
      "`Trainer.fit` stopped: `max_epochs=1` reached.\n"
     ]
    }
   ],
   "source": [
    "model_trainer = pl.Trainer(max_epochs = 1, accelerator = 'mps', devices = 1, reload_dataloaders_every_n_epochs = True, enable_progress_bar=True, logger = False, enable_checkpointing=False)\n",
    "\n",
    "model_trainer.fit(model)"
   ]
  },
  {
   "cell_type": "code",
   "execution_count": 13,
   "id": "3cd840db-584e-41e7-8933-7f26d5c36519",
   "metadata": {},
   "outputs": [
    {
     "data": {
      "application/vnd.jupyter.widget-view+json": {
       "model_id": "c48341d2bc744f43ab5807a8f2109a2d",
       "version_major": 2,
       "version_minor": 0
      },
      "text/plain": [
       "  0%|          | 0/55397 [00:00<?, ?it/s]"
      ]
     },
     "metadata": {},
     "output_type": "display_data"
    },
    {
     "name": "stdout",
     "output_type": "stream",
     "text": [
      "Hit Ratio @ 10 is 0.80\n"
     ]
    }
   ],
   "source": [
    "# U-I testing pairs\n",
    "test_ui = set(zip(Y_rating['userId'], Y_rating['movieId']))\n",
    "\n",
    "#lsit of all items interacted by all users \n",
    "interacted_items = rating_df.groupby('userId')['movieId'].apply(list).to_dict()\n",
    "\n",
    "hits = []\n",
    "for (u,i) in tqdm(test_ui):\n",
    "    int_items = interacted_items[u]\n",
    "    not_int_items = set(movie_ids_unique) - set(int_items)\n",
    "    pick_not_int_items = list(np.random.choice(list(not_int_items), 99))\n",
    "    test_gen_items = pick_not_int_items + [i]\n",
    "\n",
    "    pred_labels = np.squeeze(model(torch.tensor([u]*100), torch.tensor(test_gen_items)).detach().numpy())\n",
    "\n",
    "    top_10 = [test_gen_items[i] for i in np.argsort(pred_labels)[::-1][0:10].tolist()]\n",
    "\n",
    "    if i in top_10:\n",
    "        hits.append(1)\n",
    "    else:\n",
    "        hits.append(0)\n",
    "\n",
    "print('Hit Ratio @ 10 is {:.2f}'.format(np.average(hits)))"
   ]
  },
  {
   "cell_type": "code",
   "execution_count": 14,
   "id": "bddc14a8-aa7f-4134-b660-c75f02e4a92b",
   "metadata": {},
   "outputs": [],
   "source": [
    "torch.save(model.state_dict(), 'attn_ncf_trained.pth')"
   ]
  }
 ],
 "metadata": {
  "kernelspec": {
   "display_name": "Python 3 (ipykernel)",
   "language": "python",
   "name": "python3"
  },
  "language_info": {
   "codemirror_mode": {
    "name": "ipython",
    "version": 3
   },
   "file_extension": ".py",
   "mimetype": "text/x-python",
   "name": "python",
   "nbconvert_exporter": "python",
   "pygments_lexer": "ipython3",
   "version": "3.12.4"
  }
 },
 "nbformat": 4,
 "nbformat_minor": 5
}
