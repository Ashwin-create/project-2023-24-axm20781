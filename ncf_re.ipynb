{
 "cells": [
  {
   "cell_type": "markdown",
   "id": "21a4ce23-db34-4ba5-a778-a75ed1d1794f",
   "metadata": {},
   "source": [
    "## Neural Collaborative Filtering (NCF) based Personalised Movie Recommender Engine (MovieLens)"
   ]
  },
  {
   "cell_type": "code",
   "execution_count": 1,
   "id": "f6ce70b0-f20a-4c70-a393-2d43a7027044",
   "metadata": {},
   "outputs": [],
   "source": [
    "import pandas as pd\n",
    "import numpy as np\n",
    "\n",
    "import torch\n",
    "import torch.nn as nn\n",
    "from torch.utils.data import Dataset, DataLoader\n",
    "import pytorch_lightning as pl\n",
    "\n",
    "from tqdm.notebook import tqdm\n",
    "np.random.seed(123)"
   ]
  },
  {
   "cell_type": "code",
   "execution_count": 2,
   "id": "1887958a-20d5-4d91-a810-50070efb0d57",
   "metadata": {},
   "outputs": [],
   "source": [
    "# read data\n",
    "\n",
    "rating_df = pd.read_csv('rating.csv', parse_dates=['timestamp'])"
   ]
  },
  {
   "cell_type": "markdown",
   "id": "86d5bb34-1469-4cf4-9ae4-91e35643316b",
   "metadata": {},
   "source": [
    "### Data Preprocessing"
   ]
  },
  {
   "cell_type": "code",
   "execution_count": 3,
   "id": "2f6d0611-098b-411d-b871-70d4a5fe2e5f",
   "metadata": {},
   "outputs": [
    {
     "name": "stdout",
     "output_type": "stream",
     "text": [
      "Reduced dataframe: 8022066 rows for 55397 different users\n"
     ]
    }
   ],
   "source": [
    "#use 40% data to reduce computational load and for quicker iteration\n",
    "#randomly select users and use only their data\n",
    "\n",
    "rand_users = np.random.choice(rating_df['userId'].unique(),\n",
    "                              size=int(len(rating_df['userId'].unique())*0.4),\n",
    "                              replace=False)\n",
    "\n",
    "rating_df = rating_df.loc[rating_df['userId'].isin(rand_users)]\n",
    "\n",
    "print('Reduced dataframe: {} rows for {} different users'.format(len(rating_df), len(rand_users)))"
   ]
  },
  {
   "cell_type": "code",
   "execution_count": 4,
   "id": "f0ce2563-bd57-488e-b497-70d0b28030ad",
   "metadata": {},
   "outputs": [
    {
     "data": {
      "text/html": [
       "<div>\n",
       "<style scoped>\n",
       "    .dataframe tbody tr th:only-of-type {\n",
       "        vertical-align: middle;\n",
       "    }\n",
       "\n",
       "    .dataframe tbody tr th {\n",
       "        vertical-align: top;\n",
       "    }\n",
       "\n",
       "    .dataframe thead th {\n",
       "        text-align: right;\n",
       "    }\n",
       "</style>\n",
       "<table border=\"1\" class=\"dataframe\">\n",
       "  <thead>\n",
       "    <tr style=\"text-align: right;\">\n",
       "      <th></th>\n",
       "      <th>userId</th>\n",
       "      <th>movieId</th>\n",
       "      <th>rating</th>\n",
       "      <th>timestamp</th>\n",
       "    </tr>\n",
       "  </thead>\n",
       "  <tbody>\n",
       "  </tbody>\n",
       "</table>\n",
       "</div>"
      ],
      "text/plain": [
       "Empty DataFrame\n",
       "Columns: [userId, movieId, rating, timestamp]\n",
       "Index: []"
      ]
     },
     "execution_count": 4,
     "metadata": {},
     "output_type": "execute_result"
    }
   ],
   "source": [
    "# TRAIN-TEST SPLIT\n",
    "#leave-one-out-method, based on timestamp\n",
    "\n",
    "#illustration\n",
    "most_recents = rating_df[rating_df['userId'] == 138485].sort_values(by='timestamp', ascending=False)\n",
    "most_recents.head(3)\n",
    "\n",
    "#leave out the MOST RECENT review for test dataset, use other for training."
   ]
  },
  {
   "cell_type": "code",
   "execution_count": 5,
   "id": "78f25256-f302-420d-9e87-1ed5a1b07975",
   "metadata": {},
   "outputs": [],
   "source": [
    "#Implement leave-one-out method\n",
    "\n",
    "rating_df['latest_review'] = rating_df.groupby(['userId'])['timestamp'].rank(method='first', ascending=False)\n",
    "\n",
    "X_rating = rating_df[rating_df['latest_review'] != 1]\n",
    "Y_rating = rating_df[rating_df['latest_review'] == 1] #leave most recent for testing\n",
    "\n",
    "X_rating = X_rating[['userId', 'movieId', 'rating']]\n",
    "Y_rating = Y_rating[['userId', 'movieId', 'rating']]"
   ]
  },
  {
   "cell_type": "markdown",
   "id": "a37a143b-67fe-452f-8f12-48ab22d92922",
   "metadata": {},
   "source": [
    "### Feature Engineering"
   ]
  },
  {
   "cell_type": "code",
   "execution_count": 6,
   "id": "45f42c90-e401-4705-81d2-a98d1fb5c8db",
   "metadata": {},
   "outputs": [
    {
     "data": {
      "text/html": [
       "<div>\n",
       "<style scoped>\n",
       "    .dataframe tbody tr th:only-of-type {\n",
       "        vertical-align: middle;\n",
       "    }\n",
       "\n",
       "    .dataframe tbody tr th {\n",
       "        vertical-align: top;\n",
       "    }\n",
       "\n",
       "    .dataframe thead th {\n",
       "        text-align: right;\n",
       "    }\n",
       "</style>\n",
       "<table border=\"1\" class=\"dataframe\">\n",
       "  <thead>\n",
       "    <tr style=\"text-align: right;\">\n",
       "      <th></th>\n",
       "      <th>userId</th>\n",
       "      <th>movieId</th>\n",
       "      <th>rating</th>\n",
       "    </tr>\n",
       "  </thead>\n",
       "  <tbody>\n",
       "    <tr>\n",
       "      <th>12170960</th>\n",
       "      <td>84070</td>\n",
       "      <td>1784</td>\n",
       "      <td>1.0</td>\n",
       "    </tr>\n",
       "    <tr>\n",
       "      <th>15509804</th>\n",
       "      <td>107266</td>\n",
       "      <td>2115</td>\n",
       "      <td>1.0</td>\n",
       "    </tr>\n",
       "    <tr>\n",
       "      <th>1750802</th>\n",
       "      <td>11851</td>\n",
       "      <td>53121</td>\n",
       "      <td>1.0</td>\n",
       "    </tr>\n",
       "    <tr>\n",
       "      <th>4061913</th>\n",
       "      <td>27640</td>\n",
       "      <td>590</td>\n",
       "      <td>1.0</td>\n",
       "    </tr>\n",
       "    <tr>\n",
       "      <th>12241441</th>\n",
       "      <td>84558</td>\n",
       "      <td>30793</td>\n",
       "      <td>1.0</td>\n",
       "    </tr>\n",
       "  </tbody>\n",
       "</table>\n",
       "</div>"
      ],
      "text/plain": [
       "          userId  movieId  rating\n",
       "12170960   84070     1784     1.0\n",
       "15509804  107266     2115     1.0\n",
       "1750802    11851    53121     1.0\n",
       "4061913    27640      590     1.0\n",
       "12241441   84558    30793     1.0"
      ]
     },
     "execution_count": 6,
     "metadata": {},
     "output_type": "execute_result"
    }
   ],
   "source": [
    "# convert explicit-to-implicit feedback\n",
    "\n",
    "X_rating.loc[:, 'rating'] = 1\n",
    "\n",
    "X_rating.sample(5)"
   ]
  },
  {
   "cell_type": "code",
   "execution_count": 7,
   "id": "945312c5-ae5e-4e73-8499-c75eeead55ad",
   "metadata": {},
   "outputs": [
    {
     "data": {
      "application/vnd.jupyter.widget-view+json": {
       "model_id": "1ebe0efbbe064b1392de5a1926254560",
       "version_major": 2,
       "version_minor": 0
      },
      "text/plain": [
       "  0%|          | 0/7966669 [00:00<?, ?it/s]"
      ]
     },
     "metadata": {},
     "output_type": "display_data"
    }
   ],
   "source": [
    "# Generate 4 negative samples for each row, 4:1 ratio\n",
    "\n",
    "movie_ids_unique = rating_df['movieId'].unique()\n",
    "\n",
    "users = []\n",
    "items = []\n",
    "interacted = []\n",
    "\n",
    "ui_interacted = set(zip(X_rating['userId'], X_rating['movieId']))\n",
    "\n",
    "# 4:1 ratio\n",
    "negatives = 4\n",
    "\n",
    "for (u, i) in tqdm(ui_interacted):\n",
    "    users.append(u)\n",
    "    items.append(i)\n",
    "    interacted.append(1)\n",
    "    for _ in range(negatives):\n",
    "        neg_item = np.random.choice(movie_ids_unique)\n",
    "        while(u, neg_item) in ui_interacted:\n",
    "            neg_item = np.random.choice(movie_ids_unique)\n",
    "        users.append(u)\n",
    "        items.append(neg_item)\n",
    "        interacted.append(0)"
   ]
  },
  {
   "cell_type": "code",
   "execution_count": 8,
   "id": "08c6704a-5dae-4e26-94ea-33177603666d",
   "metadata": {},
   "outputs": [
    {
     "data": {
      "text/html": [
       "<div>\n",
       "<style scoped>\n",
       "    .dataframe tbody tr th:only-of-type {\n",
       "        vertical-align: middle;\n",
       "    }\n",
       "\n",
       "    .dataframe tbody tr th {\n",
       "        vertical-align: top;\n",
       "    }\n",
       "\n",
       "    .dataframe thead th {\n",
       "        text-align: right;\n",
       "    }\n",
       "</style>\n",
       "<table border=\"1\" class=\"dataframe\">\n",
       "  <thead>\n",
       "    <tr style=\"text-align: right;\">\n",
       "      <th></th>\n",
       "      <th>userId</th>\n",
       "      <th>movieId</th>\n",
       "      <th>interacted</th>\n",
       "    </tr>\n",
       "  </thead>\n",
       "  <tbody>\n",
       "    <tr>\n",
       "      <th>0</th>\n",
       "      <td>5070</td>\n",
       "      <td>1270</td>\n",
       "      <td>1</td>\n",
       "    </tr>\n",
       "    <tr>\n",
       "      <th>1</th>\n",
       "      <td>5070</td>\n",
       "      <td>2297</td>\n",
       "      <td>0</td>\n",
       "    </tr>\n",
       "    <tr>\n",
       "      <th>2</th>\n",
       "      <td>5070</td>\n",
       "      <td>108501</td>\n",
       "      <td>0</td>\n",
       "    </tr>\n",
       "    <tr>\n",
       "      <th>3</th>\n",
       "      <td>5070</td>\n",
       "      <td>126591</td>\n",
       "      <td>0</td>\n",
       "    </tr>\n",
       "    <tr>\n",
       "      <th>4</th>\n",
       "      <td>5070</td>\n",
       "      <td>69278</td>\n",
       "      <td>0</td>\n",
       "    </tr>\n",
       "  </tbody>\n",
       "</table>\n",
       "</div>"
      ],
      "text/plain": [
       "   userId  movieId  interacted\n",
       "0    5070     1270           1\n",
       "1    5070     2297           0\n",
       "2    5070   108501           0\n",
       "3    5070   126591           0\n",
       "4    5070    69278           0"
      ]
     },
     "execution_count": 8,
     "metadata": {},
     "output_type": "execute_result"
    }
   ],
   "source": [
    "d = {'userId': users, 'movieId': items, 'interacted': interacted}\n",
    "df = pd.DataFrame(data=d)\n",
    "df.head()"
   ]
  },
  {
   "cell_type": "code",
   "execution_count": 31,
   "id": "ef97fc95-9aa2-4453-8181-0e7bfeea5053",
   "metadata": {},
   "outputs": [],
   "source": [
    "# create pytorch dataset for training\n",
    "\n",
    "class RatingTrainData(Dataset):\n",
    "    \n",
    "    def __init__(self, rating_df, movie_ids_unique):\n",
    "        self.users, self.items, self.interacted = self.get_dataset(rating_df, movie_ids_unique)\n",
    "\n",
    "    def __len__(self):\n",
    "        return len(self.users)\n",
    "\n",
    "    def __getitem__(self, idx):\n",
    "        return self.users[idx], self.items[idx], self.interacted[idx]\n",
    "\n",
    "    def get_dataset(self, rating_df, movie_ids_unique):\n",
    "        users = []\n",
    "        items = []\n",
    "        interacted = []\n",
    "        \n",
    "        ui_interacted = set(zip(X_rating['userId'], X_rating['movieId']))\n",
    "        \n",
    "        # 4:1 ratio\n",
    "        negatives = 4\n",
    "        \n",
    "        for (u, i) in tqdm(ui_interacted):\n",
    "            users.append(u)\n",
    "            items.append(i)\n",
    "            interacted.append(1)\n",
    "            for _ in range(negatives):\n",
    "                neg_item = np.random.choice(movie_ids_unique)\n",
    "                while(u, neg_item) in ui_interacted:\n",
    "                    neg_item = np.random.choice(movie_ids_unique)\n",
    "                users.append(u)\n",
    "                items.append(neg_item)\n",
    "                interacted.append(0)\n",
    "                \n",
    "        return torch.tensor(users), torch.tensor(items), torch.tensor(interacted)   "
   ]
  },
  {
   "cell_type": "markdown",
   "id": "28671bf6-b9fd-4eda-9400-8b707248b55f",
   "metadata": {},
   "source": [
    "### Build the Neural Collaborative Filtering Framework"
   ]
  },
  {
   "cell_type": "code",
   "execution_count": 44,
   "id": "73d35a8e-ee81-4ff7-8078-48750ba864f5",
   "metadata": {},
   "outputs": [],
   "source": [
    "class NeuCF(pl.LightningModule):\n",
    "\n",
    "    def __init__(self, no_users, no_items, rating_df, movie_ids_unique):\n",
    "        super().__init__()\n",
    "        self.user_embedding = nn.Embedding(num_embeddings = no_users, embedding_dim = 8)\n",
    "        self.item_embedding = nn.Embedding(num_embeddings = no_items, embedding_dim = 8)\n",
    "        self.fc1 = nn.Linear(in_features = 16, out_features = 64)\n",
    "        self.fc2 = nn.Linear(in_features = 64, out_features = 32)\n",
    "        self.output = nn.Linear(in_features = 32, out_features = 1)\n",
    "        self.rating_df = rating_df\n",
    "        self.movie_ids_unique = movie_ids_unique\n",
    "\n",
    "\n",
    "    def forward(self, user_input, item_input):\n",
    "\n",
    "        # pass through embedding layers\n",
    "        user_embedded = self.user_embedding(user_input)\n",
    "        item_embedded = self.item_embedding(item_input)\n",
    "\n",
    "        # concat user_embedded and item_embedded\n",
    "        vector = torch.cat([user_embedded, item_embedded], dim = -1)\n",
    "\n",
    "        # pass through dense layers\n",
    "        vector = nn.ReLU()(self.fc1(vector))\n",
    "        vector = nn.ReLU()(self.fc2(vector))\n",
    "\n",
    "        # output layer\n",
    "        pred_layer = nn.Sigmoid()(self.output(vector))\n",
    "\n",
    "        \n",
    "        return pred_layer\n",
    "\n",
    "    def training_step(self, batch, batch_index):\n",
    "        user_input, item_input, labels = batch\n",
    "        pred_labels = self(user_input, item_input)\n",
    "        loss = nn.BCELoss()(pred_labels, labels.view(-1, 1).float())\n",
    "        return loss\n",
    "\n",
    "    def configure_optimizers(self):\n",
    "        return torch.optim.Adam(self.parameters())\n",
    "\n",
    "    def train_dataloader(self):\n",
    "        return DataLoader(RatingTrainData(self.rating_df, self.movie_ids_unique), batch_size = 512, num_workers = 0)"
   ]
  },
  {
   "cell_type": "code",
   "execution_count": 45,
   "id": "46a115bd-d2ec-4228-ae9a-a539b60f36be",
   "metadata": {},
   "outputs": [],
   "source": [
    "no_users = rating_df['userId'].max() + 1\n",
    "no_items = rating_df['movieId'].max() + 1\n",
    "\n",
    "movie_ids_unique = rating_df['movieId'].unique()\n",
    "\n",
    "model = NeuCF(no_users, no_items, X_rating, movie_ids_unique)"
   ]
  },
  {
   "cell_type": "code",
   "execution_count": 46,
   "id": "9e5bfb61-dee5-47ce-a51a-854fda1b16b9",
   "metadata": {},
   "outputs": [
    {
     "name": "stderr",
     "output_type": "stream",
     "text": [
      "GPU available: True (mps), used: True\n",
      "TPU available: False, using: 0 TPU cores\n",
      "HPU available: False, using: 0 HPUs\n",
      "\n",
      "  | Name           | Type      | Params | Mode \n",
      "-----------------------------------------------------\n",
      "0 | user_embedding | Embedding | 1.1 M  | train\n",
      "1 | item_embedding | Embedding | 1.1 M  | train\n",
      "2 | fc1            | Linear    | 1.1 K  | train\n",
      "3 | fc2            | Linear    | 2.1 K  | train\n",
      "4 | output         | Linear    | 33     | train\n",
      "-----------------------------------------------------\n",
      "2.2 M     Trainable params\n",
      "0         Non-trainable params\n",
      "2.2 M     Total params\n",
      "8.645     Total estimated model params size (MB)\n"
     ]
    },
    {
     "data": {
      "application/vnd.jupyter.widget-view+json": {
       "model_id": "a03d4ec4fe38446fa12f00f0ceeed362",
       "version_major": 2,
       "version_minor": 0
      },
      "text/plain": [
       "  0%|          | 0/7966669 [00:00<?, ?it/s]"
      ]
     },
     "metadata": {},
     "output_type": "display_data"
    },
    {
     "data": {
      "application/vnd.jupyter.widget-view+json": {
       "model_id": "d3f36184daf7453fa1378e3c884a99e5",
       "version_major": 2,
       "version_minor": 0
      },
      "text/plain": [
       "Training: |                                               | 0/? [00:00<?, ?it/s]"
      ]
     },
     "metadata": {},
     "output_type": "display_data"
    },
    {
     "data": {
      "application/vnd.jupyter.widget-view+json": {
       "model_id": "1f8c7ac995e640c18b9c4455605207ce",
       "version_major": 2,
       "version_minor": 0
      },
      "text/plain": [
       "  0%|          | 0/7966669 [00:00<?, ?it/s]"
      ]
     },
     "metadata": {},
     "output_type": "display_data"
    },
    {
     "data": {
      "application/vnd.jupyter.widget-view+json": {
       "model_id": "0508b453a46f40a9aa12f9c291e98b79",
       "version_major": 2,
       "version_minor": 0
      },
      "text/plain": [
       "  0%|          | 0/7966669 [00:00<?, ?it/s]"
      ]
     },
     "metadata": {},
     "output_type": "display_data"
    },
    {
     "data": {
      "application/vnd.jupyter.widget-view+json": {
       "model_id": "7c8c257648bf46eea8ab27e328df27d8",
       "version_major": 2,
       "version_minor": 0
      },
      "text/plain": [
       "  0%|          | 0/7966669 [00:00<?, ?it/s]"
      ]
     },
     "metadata": {},
     "output_type": "display_data"
    },
    {
     "data": {
      "application/vnd.jupyter.widget-view+json": {
       "model_id": "e420f69894384b3dbc62b4056d5e46cc",
       "version_major": 2,
       "version_minor": 0
      },
      "text/plain": [
       "  0%|          | 0/7966669 [00:00<?, ?it/s]"
      ]
     },
     "metadata": {},
     "output_type": "display_data"
    },
    {
     "name": "stderr",
     "output_type": "stream",
     "text": [
      "`Trainer.fit` stopped: `max_epochs=5` reached.\n"
     ]
    }
   ],
   "source": [
    "model_trainer = pl.Trainer(max_epochs = 5, accelerator = 'mps', devices = 1, reload_dataloaders_every_n_epochs = True, enable_progress_bar=True, logger = False, enable_checkpointing=False)\n",
    "\n",
    "model_trainer.fit(model)"
   ]
  },
  {
   "cell_type": "code",
   "execution_count": 47,
   "id": "334e6a03-8ac4-42fe-a008-012d662c35f3",
   "metadata": {},
   "outputs": [],
   "source": [
    "torch.save(model.state_dict(), 'ncf_trained.pth')"
   ]
  },
  {
   "cell_type": "markdown",
   "id": "752d0d89-b87d-498f-9680-7c2ac2e4d7d9",
   "metadata": {},
   "source": [
    "## Evaluation"
   ]
  },
  {
   "cell_type": "code",
   "execution_count": 49,
   "id": "7cb810d8-3c89-43cb-b1a4-d276ce0ed39d",
   "metadata": {},
   "outputs": [
    {
     "data": {
      "application/vnd.jupyter.widget-view+json": {
       "model_id": "2e8a32339c2448e095fbbea868d801a6",
       "version_major": 2,
       "version_minor": 0
      },
      "text/plain": [
       "  0%|          | 0/55397 [00:00<?, ?it/s]"
      ]
     },
     "metadata": {},
     "output_type": "display_data"
    },
    {
     "name": "stdout",
     "output_type": "stream",
     "text": [
      "Hit Ratio @ 10 is 0.59\n"
     ]
    }
   ],
   "source": [
    "# U-I testing pairs\n",
    "test_ui = set(zip(Y_rating['userId'], Y_rating['movieId']))\n",
    "\n",
    "#lsit of all items interacted by all users \n",
    "interacted_items = rating_df.groupby('userId')['movieId'].apply(list).to_dict()\n",
    "\n",
    "hits = []\n",
    "for (u,i) in tqdm(test_ui):\n",
    "    int_items = interacted_items[u]\n",
    "    not_int_items = set(movie_ids_unique) - set(int_items)\n",
    "    pick_not_int_items = list(np.random.choice(list(not_int_items), 99))\n",
    "    test_gen_items = pick_not_int_items + [i]\n",
    "\n",
    "    pred_labels = np.squeeze(model(torch.tensor([u]*100), torch.tensor(test_gen_items)).detach().numpy())\n",
    "\n",
    "    top_10 = [test_gen_items[i] for i in np.argsort(pred_labels)[::-1][0:10].tolist()]\n",
    "\n",
    "    if i in top_10:\n",
    "        hits.append(1)\n",
    "    else:\n",
    "        hits.append(0)\n",
    "\n",
    "print('Hit Ratio @ 10 is {:.2f}'.format(np.average(hits)))"
   ]
  },
  {
   "cell_type": "code",
   "execution_count": 50,
   "id": "d65669fd-312b-49de-a834-e71726addbe9",
   "metadata": {},
   "outputs": [],
   "source": [
    "import matplotlib.pyplot as plt"
   ]
  },
  {
   "cell_type": "code",
   "execution_count": 52,
   "id": "1b6cef39-8976-4c53-95f3-a3234ca45428",
   "metadata": {},
   "outputs": [
    {
     "data": {
      "image/png": "[encoded data removed]",
      "text/plain": [
       "<Figure size 400x200 with 1 Axes>"
      ]
     },
     "metadata": {},
     "output_type": "display_data"
    }
   ],
   "source": [
    "epochs = [5]\n",
    "hr_scores = [0.59]\n",
    "\n",
    "plt.figure(figsize=(4, 2))\n",
    "plt.plot(epochs, hr_scores, marker='o', linestyle='-', color='b')\n",
    "plt.title('Hit Ratio at Final Epoch')\n",
    "plt.xlabel('Epoch')\n",
    "plt.ylabel('Hit Ratio')\n",
    "plt.ylim(0, 1) \n",
    "plt.grid(True)\n",
    "plt.show()"
   ]
  },
  {
   "cell_type": "code",
   "execution_count": 57,
   "id": "ae905a69-d809-42e0-b6b2-573ba3a229df",
   "metadata": {},
   "outputs": [
    {
     "data": {
      "image/png": "[encoded data removed]",
      "text/plain": [
       "<Figure size 200x200 with 1 Axes>"
      ]
     },
     "metadata": {},
     "output_type": "display_data"
    }
   ],
   "source": [
    "# Count the number of hits and misses\n",
    "num_hits = sum(hits)\n",
    "num_misses = len(hits) - num_hits\n",
    "\n",
    "# Create a bar chart\n",
    "plt.figure(figsize=(2, 2))\n",
    "plt.bar(['Hits', 'Misses'], [num_hits, num_misses])\n",
    "plt.title('Hit Ratio @ 10')\n",
    "plt.ylabel('Number of items')\n",
    "plt.show()"
   ]
  }
 ],
 "metadata": {
  "kernelspec": {
   "display_name": "Python 3 (ipykernel)",
   "language": "python",
   "name": "python3"
  },
  "language_info": {
   "codemirror_mode": {
    "name": "ipython",
    "version": 3
   },
   "file_extension": ".py",
   "mimetype": "text/x-python",
   "name": "python",
   "nbconvert_exporter": "python",
   "pygments_lexer": "ipython3",
   "version": "3.12.4"
  }
 },
 "nbformat": 4,
 "nbformat_minor": 5
}
