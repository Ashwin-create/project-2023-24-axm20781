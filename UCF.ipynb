{
 "cells": [
  {
   "cell_type": "code",
   "execution_count": 1,
   "metadata": {
    "colab": {
     "base_uri": "https://localhost:8080/"
    },
    "id": "StLd9yUFNoOF",
    "outputId": "a1089676-99ff-48e0-e011-815d9d1bdedb"
   },
   "outputs": [
    {
     "name": "stdout",
     "output_type": "stream",
     "text": [
      "Requirement already satisfied: scikit-learn in /usr/local/lib/python3.10/dist-packages (1.3.2)\n",
      "Requirement already satisfied: numpy<2.0,>=1.17.3 in /usr/local/lib/python3.10/dist-packages (from scikit-learn) (1.26.4)\n",
      "Requirement already satisfied: scipy>=1.5.0 in /usr/local/lib/python3.10/dist-packages (from scikit-learn) (1.13.1)\n",
      "Requirement already satisfied: joblib>=1.1.1 in /usr/local/lib/python3.10/dist-packages (from scikit-learn) (1.4.2)\n",
      "Requirement already satisfied: threadpoolctl>=2.0.0 in /usr/local/lib/python3.10/dist-packages (from scikit-learn) (3.5.0)\n"
     ]
    }
   ],
   "source": [
    "!pip install scikit-learn\n"
   ]
  },
  {
   "cell_type": "code",
   "execution_count": 1,
   "metadata": {
    "id": "WQUuc1vtUznA"
   },
   "outputs": [],
   "source": [
    "import numpy as np\n",
    "import pandas as pd\n",
    "from scipy.sparse import csr_matrix\n",
    "from sklearn.metrics.pairwise import cosine_similarity\n",
    "from sklearn.model_selection import train_test_split"
   ]
  },
  {
   "cell_type": "code",
   "execution_count": 6,
   "metadata": {
    "id": "4mRUo9x1U3SR"
   },
   "outputs": [],
   "source": [
    "rating_df = pd.read_csv('reduced.csv', parse_dates=['timestamp'])"
   ]
  },
  {
   "cell_type": "code",
   "execution_count": 7,
   "metadata": {
    "colab": {
     "base_uri": "https://localhost:8080/"
    },
    "id": "JccO2BbSXm5v",
    "outputId": "bc73242f-1c91-49ba-b905-74cb8ff107af"
   },
   "outputs": [
    {
     "name": "stdout",
     "output_type": "stream",
     "text": [
      "Reduced dataframe: 645055 rows for 4431 different users\n"
     ]
    }
   ],
   "source": [
    "rand_users = np.random.choice(rating_df['userId'].unique(),\n",
    "                              size=int(len(rating_df['userId'].unique())*0.08),\n",
    "                              replace=False)\n",
    "\n",
    "rating_df = rating_df.loc[rating_df['userId'].isin(rand_users)]\n",
    "\n",
    "print('Reduced dataframe: {} rows for {} different users'.format(len(rating_df), len(rand_users)))"
   ]
  },
  {
   "cell_type": "code",
   "execution_count": 8,
   "metadata": {
    "colab": {
     "base_uri": "https://localhost:8080/"
    },
    "id": "q-gCCEsRU-c0",
    "outputId": "bb5e5194-be8f-494b-d89b-fda80eadd258"
   },
   "outputs": [
    {
     "data": {
      "text/plain": [
       "(645055, 5)"
      ]
     },
     "execution_count": 8,
     "metadata": {},
     "output_type": "execute_result"
    }
   ],
   "source": [
    "rating_df.shape"
   ]
  },
  {
   "cell_type": "code",
   "execution_count": 11,
   "metadata": {
    "id": "IlGcAGFJXrdS"
   },
   "outputs": [],
   "source": [
    "# Pivot the DataFrame to create a user-item interaction matrix\n",
    "interaction_matrix = rating_df.pivot(index='userId', columns='movieId', values='rating').fillna(0)\n",
    "\n",
    "# Convert the interaction matrix to a sparse matrix to save memory\n",
    "sparse_matrix = csr_matrix(interaction_matrix.values)\n",
    "\n",
    "# Create a mapping from matrix indices to actual IDs\n",
    "user_ids = interaction_matrix.index.tolist()\n",
    "movie_ids = interaction_matrix.columns.tolist()\n",
    "\n",
    "# Split the dataset into training and testing sets\n",
    "train_data, test_data = train_test_split(rating_df, test_size=0.2, random_state=42)\n",
    "\n",
    "# Create the training interaction matrix\n",
    "train_matrix = train_data.pivot(index='userId', columns='movieId', values='rating').fillna(0)\n",
    "sparse_train_matrix = csr_matrix(train_matrix.values)"
   ]
  },
  {
   "cell_type": "code",
   "execution_count": 12,
   "metadata": {
    "id": "aDypADgLX1Bg"
   },
   "outputs": [],
   "source": [
    "# Compute the cosine similarity matrix between users\n",
    "user_similarity = cosine_similarity(sparse_train_matrix, dense_output=True)\n",
    "\n",
    "# Convert the similarity matrix to a DataFrame\n",
    "user_similarity = pd.DataFrame(user_similarity, index=user_ids, columns=user_ids)"
   ]
  },
  {
   "cell_type": "code",
   "execution_count": 15,
   "metadata": {
    "id": "hQHvwm-gYliA"
   },
   "outputs": [],
   "source": [
    "def predict_ratings(user_similarity, train_matrix):\n",
    "    train_matrix_np = train_matrix.to_numpy()\n",
    "\n",
    "    # subtract the mean rating for each user\n",
    "    mean_user_rating = train_matrix.mean(axis=1).to_numpy().reshape(-1, 1)\n",
    "    ratings_diff = train_matrix_np - mean_user_rating\n",
    "\n",
    "    user_similarity_np = user_similarity.to_numpy()\n",
    "\n",
    "    # Predict ratings\n",
    "    pred = mean_user_rating + user_similarity_np.dot(ratings_diff) / np.array([np.abs(user_similarity_np).sum(axis=1)]).T\n",
    "\n",
    "    pred_df = pd.DataFrame(pred, index=user_ids, columns=train_matrix.columns)\n",
    "\n",
    "    # Reindex the predictions to match the original item indices\n",
    "    pred_df = pred_df.reindex(columns=movie_ids, fill_value=0)\n",
    "\n",
    "    return pred_df\n"
   ]
  },
  {
   "cell_type": "code",
   "execution_count": 16,
   "metadata": {
    "id": "ip8tVlDvZRDV"
   },
   "outputs": [],
   "source": [
    "predicted_ratings = predict_ratings(user_similarity, train_matrix)"
   ]
  },
  {
   "cell_type": "code",
   "execution_count": 17,
   "metadata": {
    "id": "DNT_NlrNZq-f"
   },
   "outputs": [],
   "source": [
    "# calculate Hit Ratio@10\n",
    "def hit_ratio_at_10(test_data, predicted_ratings, top_k=10):\n",
    "    hits = 0\n",
    "    total = 0\n",
    "\n",
    "    for _, row in test_data.iterrows():\n",
    "        user = row['userId']\n",
    "        true_item = row['movieId']\n",
    "\n",
    "        if user in predicted_ratings.index and true_item in predicted_ratings.columns:\n",
    "            predicted_items = predicted_ratings.loc[user].sort_values(ascending=False).head(top_k).index.tolist()\n",
    "\n",
    "            if true_item in predicted_items:\n",
    "                hits += 1\n",
    "            total += 1\n",
    "\n",
    "    return hits / total if total > 0 else 0"
   ]
  },
  {
   "cell_type": "code",
   "execution_count": 18,
   "metadata": {
    "colab": {
     "base_uri": "https://localhost:8080/"
    },
    "id": "AufI4NWsZsTg",
    "outputId": "9b49385e-6854-4142-acab-2f3def68473c"
   },
   "outputs": [
    {
     "name": "stdout",
     "output_type": "stream",
     "text": [
      "Hit Ratio@10 for User-based CF Model: 0.03\n"
     ]
    }
   ],
   "source": [
    "# Evaluate the model\n",
    "hit_ratio = hit_ratio_at_10(test_data, predicted_ratings, top_k=10)\n",
    "print(f'Hit Ratio@10 for User-based CF Model: {hit_ratio:.2f}')"
   ]
  }
 ],
 "metadata": {
  "accelerator": "GPU",
  "colab": {
   "gpuType": "T4",
   "provenance": []
  },
  "kernelspec": {
   "display_name": "Python 3 (ipykernel)",
   "language": "python",
   "name": "python3"
  },
  "language_info": {
   "codemirror_mode": {
    "name": "ipython",
    "version": 3
   },
   "file_extension": ".py",
   "mimetype": "text/x-python",
   "name": "python",
   "nbconvert_exporter": "python",
   "pygments_lexer": "ipython3",
   "version": "3.12.4"
  }
 },
 "nbformat": 4,
 "nbformat_minor": 4
}
